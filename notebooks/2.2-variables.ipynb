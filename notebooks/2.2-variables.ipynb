{
 "metadata": {
  "language_info": {
   "codemirror_mode": {
    "name": "ipython",
    "version": 3
   },
   "file_extension": ".py",
   "mimetype": "text/x-python",
   "name": "python",
   "nbconvert_exporter": "python",
   "pygments_lexer": "ipython3",
   "version": "3.9.1"
  },
  "orig_nbformat": 2,
  "kernelspec": {
   "name": "python391jvsc74a57bd0629b434df4520847794246a16e1291eb7f6146fbcc3f4d915d5194a82548c03c",
   "display_name": "Python 3.9.1 64-bit"
  },
  "metadata": {
   "interpreter": {
    "hash": "629b434df4520847794246a16e1291eb7f6146fbcc3f4d915d5194a82548c03c"
   }
  }
 },
 "nbformat": 4,
 "nbformat_minor": 2,
 "cells": [
  {
   "source": [
    "# 2.2 Tipos básicos de datos y operadores\n",
    "\n",
    "Las variables son ubicaciones de memoria reservadas para almacenar valores, ya sean números o texto. Cada vez que declaramos una variable, se está reservando espacio en memoria. \n",
    "\n",
    "## 2.2.1. Asignar valores a variables\n",
    "\n",
    "Para asignar valores a las variables, no hace falta una declaración explícita en Python. Cuando utilizamos el signo = estamos asignando un valor a una variable. El operando a la izquierda del signo = es la variable y el operando a la derecha del signo = es el valor que será almacenado en la variable. "
   ],
   "cell_type": "markdown",
   "metadata": {}
  },
  {
   "cell_type": "code",
   "execution_count": 5,
   "metadata": {},
   "outputs": [],
   "source": [
    "edad = 50           # Asignación de valor a una variable de tipo entero\n",
    "peso = 60.9         # Asignación de valor a una variable de tipo punto flotante\n",
    "nombre = 'Gonzalo'  # Asignación de valor a una variable de tipo cadena\n",
    "trabajando = True   # Asignación de valor a una variable de tipo boolean"
   ]
  },
  {
   "source": [
    "También se pueden hacer una asignación múltiple de la siguiente manera"
   ],
   "cell_type": "markdown",
   "metadata": {}
  },
  {
   "cell_type": "code",
   "execution_count": 3,
   "metadata": {},
   "outputs": [],
   "source": [
    "a = b = c = 1\n"
   ]
  },
  {
   "source": [
    "Incluso se pueden hacer diferentes asignaciones en una misma línea"
   ],
   "cell_type": "markdown",
   "metadata": {}
  },
  {
   "cell_type": "code",
   "execution_count": 4,
   "metadata": {},
   "outputs": [],
   "source": [
    "nombre, apellidos, edad = 'José', 'Pulido', 40"
   ]
  },
  {
   "source": [
    "## 2.2.2 Variables y operaciones numéricas\n",
    "Las variables de tipo numéricas, como su nombre indica, sirven para almacenar números. Estos números pueden ser enteros, punto flotante o número complejos, aunque estos últimos quedan fuera del alcance de este curso. \n",
    "\n",
    "Las variables numéricas son creadas al asignarle un valor y comprenden todos los números reales tanto positivos como negativos. \n",
    "\n"
   ],
   "cell_type": "markdown",
   "metadata": {}
  },
  {
   "cell_type": "code",
   "execution_count": 6,
   "metadata": {},
   "outputs": [],
   "source": [
    "edad = 37\n",
    "precio = -65.99"
   ]
  },
  {
   "source": [
    "Las **operaciones aritméticas** que se pueden hacer con variables numéricas son:\n",
    "\n",
    "| Operador | Descripción |\n",
    "| :--: | :-- |\n",
    "| **+** | sumar | \n",
    "| **-** | restar | \n",
    "| ***** | multiplicar | \n",
    "| **/** | dividir | \n",
    "| **//** | cociente de una división | \n",
    "| **%** | módulo de una división | \n",
    "| **divmod** | cociente y módulo de una división |\n",
    "| ****** | exponente | "
   ],
   "cell_type": "markdown",
   "metadata": {}
  },
  {
   "cell_type": "code",
   "execution_count": 4,
   "metadata": {},
   "outputs": [
    {
     "output_type": "stream",
     "name": "stdout",
     "text": [
      "La suma de 17 y 4 es 21\nLa resta de 17 y 4 es 13\nLa multiplicación de 17 y 4 es 68\nLa división entre 17 y 4 es 4.25\nEl cociente 17 y 4 es 4\nEl módulo de 17 y 4 es 1\nEl cociente y módulo de la división entre 17 y 4 es (4, 1)\nEl cociente es 4 y el módulo es 1\n17 elevado a 4 es 83521\n"
     ]
    }
   ],
   "source": [
    "# Suma \n",
    "a, b = 17, 4\n",
    "print(f'La suma de {a} y {b} es {a + b}')\n",
    "# Resta\n",
    "print(f'La resta de {a} y {b} es {a - b}')\n",
    "# Multiplicación\n",
    "print(f'La multiplicación de {a} y {b} es {a * b}')\n",
    "# División\n",
    "print(f'La división entre {a} y {b} es {a / b}')\n",
    "# Cociente de una división\n",
    "print(f'El cociente {a} y {b} es {a // b}')\n",
    "# Módulo de una división\n",
    "print(f'El módulo de {a} y {b} es {a % b}')\n",
    "# Cociente y módulo de una división\n",
    "print(f'El cociente y módulo de la división entre {a} y {b} es {divmod(a, b)}')\n",
    "# También podríamos guardar en diferentes variables el cociente y módulo\n",
    "cociente, modulo = divmod(a, b)\n",
    "print(f'El cociente es {cociente} y el módulo es {modulo}')\n",
    "# Exponente\n",
    "print(f'{a} elevado a {b} es {a ** b}')"
   ]
  },
  {
   "source": [
    "**round()** redondea el número pasado como parámetro. Esta función recibe dos parámetros. \n",
    "\n",
    "Cuando pasamos un sólo parámetro a esta función, redondea al entero más próximo."
   ],
   "cell_type": "markdown",
   "metadata": {}
  },
  {
   "cell_type": "code",
   "execution_count": 5,
   "metadata": {},
   "outputs": [
    {
     "output_type": "stream",
     "name": "stdout",
     "text": [
      "4\n5\n"
     ]
    }
   ],
   "source": [
    "numero1 = 3.65\n",
    "numero2 = 5.22\n",
    "redondeo1 = round(numero1)\n",
    "redondeo2 = round(numero2)\n",
    "print(redondeo1)\n",
    "print(redondeo2)"
   ]
  },
  {
   "source": [
    "Cuando pasamos dos parámetros a la función **round()**, la función devuelve el redondeo del primer argumento con el número de decimales del segundo"
   ],
   "cell_type": "markdown",
   "metadata": {}
  },
  {
   "cell_type": "code",
   "execution_count": 6,
   "metadata": {},
   "outputs": [
    {
     "output_type": "stream",
     "name": "stdout",
     "text": [
      "3.65\n5.225\n"
     ]
    }
   ],
   "source": [
    "numero1 = 3.65354\n",
    "numero2 = 5.22545\n",
    "redondeo1 = round(numero1, 2)\n",
    "redondeo2 = round(numero2, 3)\n",
    "print(redondeo1)\n",
    "print(redondeo2)"
   ]
  },
  {
   "source": [
    "abs() devuelve el valor absoluto de un número"
   ],
   "cell_type": "markdown",
   "metadata": {}
  },
  {
   "cell_type": "code",
   "execution_count": 7,
   "metadata": {},
   "outputs": [
    {
     "output_type": "stream",
     "name": "stdout",
     "text": [
      "El valor absoluto de -3 es 3\n"
     ]
    }
   ],
   "source": [
    "numero = -3\n",
    "abs_numero = abs(numero)\n",
    "print(f'El valor absoluto de {numero} es {abs_numero}')"
   ]
  },
  {
   "source": [
    "**max()** devuelve el máximo de un conjunto de valores\n",
    "\n",
    "**min()** devuelve el mínimo de un conjunto de valores"
   ],
   "cell_type": "markdown",
   "metadata": {}
  },
  {
   "cell_type": "code",
   "execution_count": 8,
   "metadata": {},
   "outputs": [
    {
     "output_type": "stream",
     "name": "stdout",
     "text": [
      "El máximo valor es 8\nEl mínimo valor es -3\n"
     ]
    }
   ],
   "source": [
    "numero1 = 5\n",
    "numero2 = -3\n",
    "maximo = max(1, numero1, 8, numero2)\n",
    "minimo = min(1, numero1, 8, numero2)\n",
    "print(f'El máximo valor es {maximo}')\n",
    "print(f'El mínimo valor es {minimo}')"
   ]
  },
  {
   "source": [
    "## 2.2.3 Variables y operaciones con cadenas\n",
    "Las variables de **tipo cadena** son un conjunto de caracteres. \n",
    "\n",
    "Para asignar una cadena a una variable, se debe poner la cadena entre comillas simples o dobles."
   ],
   "cell_type": "markdown",
   "metadata": {}
  },
  {
   "cell_type": "code",
   "execution_count": 2,
   "metadata": {},
   "outputs": [
    {
     "output_type": "stream",
     "name": "stdout",
     "text": [
      "Hola Andrea\n"
     ]
    }
   ],
   "source": [
    "saludo = 'Hola'\n",
    "nombre = \"Andrea\"\n",
    "print(saludo, nombre)"
   ]
  },
  {
   "source": [
    "Podemos realizar las siguientes operaciones con cadenas:\n",
    "\n",
    "**Concatenar** con el operador +"
   ],
   "cell_type": "markdown",
   "metadata": {}
  },
  {
   "cell_type": "code",
   "execution_count": 3,
   "metadata": {},
   "outputs": [
    {
     "output_type": "stream",
     "name": "stdout",
     "text": [
      "Hola Juan\n"
     ]
    }
   ],
   "source": [
    "mensaje = 'Hola' + ' ' + 'Juan'\n",
    "print(mensaje)"
   ]
  },
  {
   "source": [
    "**Multiplicar** con el operador *"
   ],
   "cell_type": "markdown",
   "metadata": {}
  },
  {
   "cell_type": "code",
   "execution_count": 6,
   "metadata": {},
   "outputs": [
    {
     "output_type": "stream",
     "name": "stdout",
     "text": [
      "Hola Hola Hola \n"
     ]
    }
   ],
   "source": [
    "mensaje = 'Hola ' * 3\n",
    "print(mensaje)"
   ]
  },
  {
   "source": [
    "**Añadir** con el operador +="
   ],
   "cell_type": "markdown",
   "metadata": {}
  },
  {
   "cell_type": "code",
   "execution_count": 8,
   "metadata": {},
   "outputs": [
    {
     "output_type": "stream",
     "name": "stdout",
     "text": [
      "Hola Lola\n"
     ]
    }
   ],
   "source": [
    "mensaje = 'Hola'\n",
    "mensaje += ' '\n",
    "mensaje += 'Lola'\n",
    "print(mensaje)"
   ]
  },
  {
   "source": [
    "**len()** nos devuelve la longitud de la cadena"
   ],
   "cell_type": "markdown",
   "metadata": {}
  },
  {
   "cell_type": "code",
   "execution_count": 9,
   "metadata": {},
   "outputs": [
    {
     "output_type": "stream",
     "name": "stdout",
     "text": [
      "La variable mensaje tiene 9 caracteres\n"
     ]
    }
   ],
   "source": [
    "mensaje = 'Hola Lola'\n",
    "print(f'La variable mensaje tiene {len(mensaje)} caracteres')"
   ]
  },
  {
   "source": [
    "**find()** nos devuelve la posición de una subcadena dentro de una cadena. En caso de no encontrarla, devuelve -1"
   ],
   "cell_type": "markdown",
   "metadata": {}
  },
  {
   "cell_type": "code",
   "execution_count": 12,
   "metadata": {},
   "outputs": [
    {
     "output_type": "stream",
     "name": "stdout",
     "text": [
      "5\n-1\n"
     ]
    }
   ],
   "source": [
    "mensaje = 'Hola Lola'\n",
    "print(mensaje.find('Lola'))\n",
    "print(mensaje.find('Miguel'))"
   ]
  },
  {
   "source": [
    "**lower()** y **upper()** convierten una cadena a minúsculas o mayúsculas respectivamente. "
   ],
   "cell_type": "markdown",
   "metadata": {}
  },
  {
   "cell_type": "code",
   "execution_count": 13,
   "metadata": {},
   "outputs": [
    {
     "output_type": "stream",
     "name": "stdout",
     "text": [
      "hola mundo\nHOLA MUNDO\n"
     ]
    }
   ],
   "source": [
    "saludo = 'Hola Mundo'\n",
    "minusculas = saludo.lower()\n",
    "mayusculas = saludo.upper()\n",
    "print(minusculas)\n",
    "print(mayusculas)"
   ]
  },
  {
   "source": [
    "**replace()** nos permite reemplazar una subcadena por otra en una cadena. "
   ],
   "cell_type": "markdown",
   "metadata": {}
  },
  {
   "cell_type": "code",
   "execution_count": 14,
   "metadata": {},
   "outputs": [
    {
     "output_type": "stream",
     "name": "stdout",
     "text": [
      "Quiero pizza\n"
     ]
    }
   ],
   "source": [
    "mensaje = 'Quiero espinacas'\n",
    "mensaje = mensaje.replace('espinacas', 'pizza')\n",
    "print(mensaje)"
   ]
  },
  {
   "source": [
    "**Subcadenas**.\n",
    "Podemos obtener una subcadena de una cadena utilizando cadena\\[x:y\\] donde x indica el inicio e y el fin de la subcadena que queremos obtener. Las posiciones de los caracteres se empieza a contar desde cero. "
   ],
   "cell_type": "markdown",
   "metadata": {}
  },
  {
   "cell_type": "code",
   "execution_count": 23,
   "metadata": {},
   "outputs": [
    {
     "output_type": "stream",
     "name": "stdout",
     "text": [
      "mundo\nBienvenidos\nPython\n"
     ]
    }
   ],
   "source": [
    "mensaje = 'Bienvenidos al mundo de Python'\n",
    "print(mensaje[15:20]) #Obtiene desde el carácter 15 hasta el 19\n",
    "print(mensaje[:11]) #Si no se especifica el inicio, se obtiene desde el carácter cero\n",
    "print(mensaje[24:]) #Si no se especifica el final, se obtiene hasta el último carácter"
   ]
  },
  {
   "source": [
    "También se pueden utilizar números negativos para obtener subcadenas, siendo -1 el último carácter de la cadena. "
   ],
   "cell_type": "markdown",
   "metadata": {}
  },
  {
   "cell_type": "code",
   "execution_count": 29,
   "metadata": {},
   "outputs": [
    {
     "output_type": "stream",
     "name": "stdout",
     "text": [
      "mundo\nBienvenidos\nPython\n"
     ]
    }
   ],
   "source": [
    "mensaje = 'Bienvenidos al mundo de Python'\n",
    "print(mensaje[-15:-10]) #El -15 sería equivalente a 15 y el -10 equivalente a 20\n",
    "print(mensaje[:-19]) #El -19 sería equivalente a 11\n",
    "print(mensaje[-6:]) #El -6 sería equivalente a 24"
   ]
  },
  {
   "source": [
    "## 2.2.4 Variables Booleanas y operadores lógicos y relacionales\n",
    "Las **variables booleanas** sólo pueden tomar dos posibles valores: **True** o **False**. Los booleanos son muy importantes para las expresiones condicionales y bucles como veremos posteriormente en el curso. \n",
    "\n",
    "En Python, cualquier tipo de variable puede considerarse booleana. Como regla general, los ceros, nulos o vacíos se consideran **False** y el resto **True**. La manera de comprobar si un tipo se considera **True** o **False** es con **bool()**.\n",
    "\n"
   ],
   "cell_type": "markdown",
   "metadata": {}
  },
  {
   "cell_type": "code",
   "execution_count": 5,
   "metadata": {},
   "outputs": [
    {
     "output_type": "stream",
     "name": "stdout",
     "text": [
      "False\nFalse\nFalse\nTrue\nTrue\nTrue\n"
     ]
    }
   ],
   "source": [
    "print(bool(0)) # False\n",
    "print(bool(0.0)) # False\n",
    "print(bool(\"\")) # False\n",
    "print(bool(3)) # True\n",
    "print(bool(2.3)) # True\n",
    "print(bool(\"Hola\")) # True"
   ]
  },
  {
   "source": [
    "Hay otros tipos de variables que también pueden convertirse en bool que veremos posteriormente en el curso. \n"
   ],
   "cell_type": "markdown",
   "metadata": {}
  },
  {
   "source": [
    "**Operadores lógicos**\n",
    "\n",
    "**and**: Este operador da como resultado **True** si sus dos operandos son **True**\n",
    "\n",
    "**or**: Este operador da como resultado **True** si al menos uno de sus dos operandos son **True**\n",
    "\n",
    "**not**: Este operador niega su operando, conviertiendo **True** en **False** y **False** en **True**"
   ],
   "cell_type": "markdown",
   "metadata": {}
  },
  {
   "cell_type": "code",
   "execution_count": 3,
   "metadata": {},
   "outputs": [
    {
     "output_type": "stream",
     "name": "stdout",
     "text": [
      "True\nFalse\nFalse\nFalse\nTrue\nTrue\nTrue\nFalse\nFalse\nTrue\n"
     ]
    }
   ],
   "source": [
    "print(True and True) # True\n",
    "print(True and False) # False\n",
    "print(False and True) # False\n",
    "print(False and False) # False\n",
    "print(True or True) # True\n",
    "print(True or False) # True\n",
    "print(False or True) # True\n",
    "print(False or False) # False\n",
    "print(not True) # False\n",
    "print(not False) # True"
   ]
  },
  {
   "source": [
    "**Operadores relacionales**\n",
    "\n",
    "Las comparaciones dan como resultado valores booleanos.\n",
    " \n",
    "| Operador | Significado |\n",
    "| -- | -- |\n",
    "| **>** | mayor que |\n",
    "| **<** | menor que |\n",
    "| **>=** | mayor o igual que |\n",
    "| **=<** | menor o igual que |\n",
    "| **==** | igual que |\n",
    "| **!=** | distinto de |"
   ],
   "cell_type": "markdown",
   "metadata": {}
  },
  {
   "cell_type": "code",
   "execution_count": 9,
   "metadata": {},
   "outputs": [
    {
     "output_type": "stream",
     "name": "stdout",
     "text": [
      "True\nFalse\nTrue\nTrue\nTrue\nFalse\nTrue\n"
     ]
    }
   ],
   "source": [
    "print(3 > 2) # True\n",
    "print(3 < 2) # False\n",
    "print(4 >= 2+2) # True\n",
    "print(4 <= 5+2) # True\n",
    "print('Hola' == 'Hola') # True\n",
    "print(3 == '3') # False\n",
    "print(4 != '4') # True"
   ]
  },
  {
   "source": [
    "## 2.2.5 Type y Castings\n",
    "\n",
    "Y ahora que conocemos 3 tipos de variables (numéricas, cadenas y booleanas), ¿cómo podemos saber de qué tipo es una variable? ¿Podemos convertir un tipo de variable en otro?\n",
    "\n",
    "**type()** nos devuelve el tipo de una variable. Esto nos servirá, por ejemplo, para verificar que el dato que nos están pasando es del tipo correcto. \n"
   ],
   "cell_type": "markdown",
   "metadata": {}
  },
  {
   "cell_type": "code",
   "execution_count": 2,
   "metadata": {},
   "outputs": [
    {
     "output_type": "stream",
     "name": "stdout",
     "text": [
      "<class 'int'>\n<class 'float'>\n<class 'str'>\n<class 'bool'>\n"
     ]
    }
   ],
   "source": [
    "variable1 = 4\n",
    "variable2 = 4.5\n",
    "variable3 = 'Hola'\n",
    "variable4 = True\n",
    "print(type(variable1)) # int\n",
    "print(type(variable2)) # float\n",
    "print(type(variable3)) # str\n",
    "print(type(variable4)) # bool"
   ]
  },
  {
   "source": [
    "**is** Podemos saber si una variable es de un tipo concreto con **is**\n"
   ],
   "cell_type": "markdown",
   "metadata": {}
  },
  {
   "cell_type": "code",
   "execution_count": 6,
   "metadata": {},
   "outputs": [
    {
     "output_type": "stream",
     "name": "stdout",
     "text": [
      "True\nFalse\nTrue\nFalse\nTrue\nFalse\nTrue\nFalse\n"
     ]
    }
   ],
   "source": [
    "variable1 = 4\n",
    "variable2 = 4.5\n",
    "variable3 = 'Hola'\n",
    "variable4 = True\n",
    "print(type(variable1) is int) # True\n",
    "print(type(variable1) is float) # False\n",
    "print(type(variable2) is float) # True\n",
    "print(type(variable2) is str) # False\n",
    "print(type(variable3) is str) # True\n",
    "print(type(variable3) is bool) # False\n",
    "print(type(variable4) is bool) # True\n",
    "print(type(variable4) is int) # False"
   ]
  },
  {
   "source": [
    "**Casting** Hay ocasiones en las que se quiere convertir una variable de un tipo en otro tipo. De hecho, ya hemos visto un caso con **bool()**, que convertía cualquier tipo de variable en boolean. Pues a esta conversión entre un tipo y otro es a lo que llamamos **Casting**.\n",
    "\n",
    "Hasta ahora hemos visto 4 tipos de variables:\n",
    "- **int**\n",
    "- **float**\n",
    "- **strings o cadenas**\n",
    "- **booleanos**\n",
    "\n",
    "Para convertir a estos tipos de variables se utilizará:\n",
    "- **int()**\n",
    "- **float()**\n",
    "- **str()**\n",
    "- **bool()**\n",
    "\n",
    "Hay otros **casting** que pueden realizarse con otros tipos de datos que veremos más adelante en el curso. "
   ],
   "cell_type": "markdown",
   "metadata": {}
  },
  {
   "cell_type": "code",
   "execution_count": 6,
   "metadata": {},
   "outputs": [
    {
     "output_type": "stream",
     "name": "stdout",
     "text": [
      "0 1 1 2 3\n"
     ]
    }
   ],
   "source": [
    "v = int(False) # será un entero igual a 0\n",
    "w = int(True) # será un entero igual a 1\n",
    "x = int(1) # será un entero igual a 1\n",
    "y = int(2.8) # será un entero igual a 2\n",
    "z = int('3') # será un entero igual a 3\n",
    "print(v, w, x, y, z)"
   ]
  },
  {
   "cell_type": "code",
   "execution_count": 7,
   "metadata": {},
   "outputs": [
    {
     "output_type": "stream",
     "name": "stdout",
     "text": [
      "1.0 1.0 2.8 3.0 4.2\n"
     ]
    }
   ],
   "source": [
    "v = float(True) # será un float igual a 1.0\n",
    "w = float(1) # será un float igual a 1.0\n",
    "x = float(2.8) # será un float igual a 2.8\n",
    "y = float('3') # será un float igual a 3.0\n",
    "z = float('4.2') # será un float igual a 4.2\n",
    "print(v, w, x, y, z)"
   ]
  },
  {
   "cell_type": "code",
   "execution_count": 3,
   "metadata": {},
   "outputs": [
    {
     "output_type": "stream",
     "name": "stdout",
     "text": [
      "True Hola 2 3.0\n"
     ]
    }
   ],
   "source": [
    "w = str(True) # será una cadena True\n",
    "x = str(\"Hola\") # será una cadena 'Hola'\n",
    "y = str(2) # será una cadena '2'\n",
    "z = str(3.0) # será una cadena '3.0'\n",
    "print(w, x, y, z)"
   ]
  },
  {
   "cell_type": "code",
   "execution_count": 8,
   "metadata": {},
   "outputs": [
    {
     "output_type": "stream",
     "name": "stdout",
     "text": [
      "False False False True True True\n"
     ]
    }
   ],
   "source": [
    "u = bool(0) # False\n",
    "v = bool(0.0) # False\n",
    "w = bool(\"\") # False\n",
    "x = bool(3) # True\n",
    "y = bool(2.3) # True\n",
    "z = bool(\"Hola\") # True\n",
    "print(u, v, w, x, y, z)"
   ]
  },
  {
   "cell_type": "code",
   "execution_count": null,
   "metadata": {},
   "outputs": [],
   "source": []
  }
 ]
}