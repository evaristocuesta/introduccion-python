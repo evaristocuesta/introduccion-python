{
 "metadata": {
  "language_info": {
   "codemirror_mode": {
    "name": "ipython",
    "version": 3
   },
   "file_extension": ".py",
   "mimetype": "text/x-python",
   "name": "python",
   "nbconvert_exporter": "python",
   "pygments_lexer": "ipython3",
   "version": "3.7.8"
  },
  "orig_nbformat": 2,
  "kernelspec": {
   "name": "python378jvsc74a57bd057baa5815c940fdaff4d14510622de9616cae602444507ba5d0b6727c008cbd6",
   "display_name": "Python 3.7.8 64-bit"
  },
  "metadata": {
   "interpreter": {
    "hash": "57baa5815c940fdaff4d14510622de9616cae602444507ba5d0b6727c008cbd6"
   }
  }
 },
 "nbformat": 4,
 "nbformat_minor": 2,
 "cells": [
  {
   "source": [
    "# 2.3 Funciones\n",
    "\n",
    "## 2.3.1 ¿Qué son las funciones?\n",
    "\n",
    "Una **función** es un bloque de código con un nombre asociadom que recibe cero o más argumentos de entrada, sigue una secuencia de sentencias que realizan una tarea y/o devuelven un valor. Las **funciones** sólo son ejecutadas cuando son llamadas y pueden ser llamadas cuantas veces se quiera. \n",
    "\n",
    "Las **ventajas de las funciones** son:\n",
    "- **Modularización**: permite segmentar un código complejo en una serie de partes o módulos más simples, facilitando la programación. \n",
    "- **Reutilización**: permite reutilizar una función en diferentes programs, evitando tener que escribir este código una y otra vez. \n",
    "\n",
    "Una buena práctica es hacer que una **función** tenga como finalidad realizar una única acción, reutilizable y que sea lo más genérica posible. \n",
    "\n",
    "**Python** dispone de muchas funciones integradas en el lenguaje, como ya hemos podido ver durante el curso. Ejemplos de funciones integradas en el lenguaje son **print()**, **input()**, **type()**, etc... Además, **Python** permite crear funciones definidas por el usuario para poder ser usudas. \n",
    "\n",
    "## 2.3.2 Difinir funciones\n",
    "\n",
    "En **Python**, la definición de funciones se realiza mediante la instrucción **def** más un nombre descriptivo, para el cual se aplican las mismas reglas que para el nombre de variables (ver apartado 2.1.1 Identificadores). \n",
    "\n",
    "La sintaxis de una función en **Python** es la siguiente:\n",
    "```\n",
    "def NOMBRE(LISTA_DE_PARAMETROS):\n",
    "    SENTENCIAS\n",
    "    return [EXPRESION]\n",
    "```\n",
    "\n",
    "- **NOMBRE** es el nombre de la función\n",
    "- **LISTA_DE_PARAMETROS** es la lista de parámetros que puede recibir la función. Una función puede no recibir parámetros\n",
    "- **SENTENCIAS** es el bloque de sentencias en código Python para realizar la tarea que queremos que realice la función\n",
    "- **return** es la setencia return en código **Python** y se utiliza para devolver un valor. Una función puede no devolver ningún valor\n",
    "- **EXPRESION** es la expresión o variable que devuelve la sentencia **return**\n",
    "\n",
    "A continuación vemos como ejemplo la definición de una función. "
   ],
   "cell_type": "markdown",
   "metadata": {}
  },
  {
   "cell_type": "code",
   "execution_count": 7,
   "metadata": {},
   "outputs": [],
   "source": [
    "def saludar(nombre):\n",
    "    mensaje = f\"Hola {nombre}\"\n",
    "    return mensaje"
   ]
  },
  {
   "source": [
    "Para llamar a una función, se utiliza el nombre de la función y entre paréntesis le pasamos la lista de parámetros. \n",
    "\n",
    "Además, se le puede asignar a una variable el valor que devuelve la función con **return**."
   ],
   "cell_type": "markdown",
   "metadata": {}
  },
  {
   "cell_type": "code",
   "execution_count": 8,
   "metadata": {},
   "outputs": [
    {
     "output_type": "stream",
     "name": "stdout",
     "text": [
      "Hola Santiago\n"
     ]
    }
   ],
   "source": [
    "mensaje_saludo = saludar(\"Santiago\")\n",
    "print(mensaje_saludo)"
   ]
  },
  {
   "cell_type": "code",
   "execution_count": null,
   "metadata": {},
   "outputs": [],
   "source": []
  }
 ]
}