{
  "nbformat": 4,
  "nbformat_minor": 0,
  "metadata": {
    "colab": {
      "name": "02.sintaxis.ipynb",
      "provenance": [],
      "collapsed_sections": [],
      "authorship_tag": "ABX9TyNspqoIAWFSifb3v9cfbEmP"
    },
    "kernelspec": {
      "name": "python391jvsc74a57bd0629b434df4520847794246a16e1291eb7f6146fbcc3f4d915d5194a82548c03c",
      "display_name": "Python 3.9.1 64-bit"
    },
    "language_info": {
      "name": "python",
      "version": "3.9.1"
    },
    "metadata": {
      "interpreter": {
        "hash": "629b434df4520847794246a16e1291eb7f6146fbcc3f4d915d5194a82548c03c"
      }
    }
  },
  "cells": [
    {
      "cell_type": "markdown",
      "metadata": {
        "id": "giSWKII083m7"
      },
      "source": [
        "# 02. Sintáxis de Python\n",
        "El lenguaje Python tienes muchas similitudes con otros lenguajes de programación como Perl, C o Java. Sin embargo, como en todos los lenguajes, Python tiene su propia sintáxis que pasaremos a ver a continuación. \n",
        "\n"
      ]
    },
    {
      "cell_type": "markdown",
      "metadata": {
        "id": "19kMGYskE4CP"
      },
      "source": [
        "## Identificadores\n",
        "Un identificador de Python es el nombre utilizado para identificar una variable, función, clase, módulo u otro objeto. Un identificador empieza con una letra de la A a la Z, ya sea mayúscula o minúscula, o guión bajo, seguida de cero o más letras, guiones bajos o números. Python no permite caracteres especiales en los identificadores tales como @, $ y %. Además, Python es un lenguaje de programación sensible a las mayúsculas y minúsculas, por lo que **variable1** y **Variable1** son dos variables diferentes para Python. \n",
        "\n"
      ]
    },
    {
      "cell_type": "markdown",
      "metadata": {
        "id": "9CP0-ZxvE7u3"
      },
      "source": [
        "## Palabras reservadas\n",
        "La siguiente lista son palabras reservadas de Python, por lo que no podrán ser utilizadas como nombres de una constante o variable o cualquier otro identificador. \n",
        "*   and\n",
        "*   as\n",
        "*   assert\n",
        "*   async\n",
        "*   await\n",
        "*   break\n",
        "*   class\n",
        "*   continue\n",
        "*   def\n",
        "*   del\n",
        "*   elif\n",
        "*   else\n",
        "*   except\n",
        "*   False\n",
        "*   finally\n",
        "*   for\n",
        "*   from\n",
        "*   global\n",
        "*   if\n",
        "*   import\n",
        "*   in\n",
        "*   is\n",
        "*   lambda\n",
        "*   None\n",
        "*   nonlocal\n",
        "*   not\n",
        "*   or\n",
        "*   pass\n",
        "*   raise\n",
        "*   return\n",
        "*   True\n",
        "*   try\n",
        "*   while\n",
        "*   with\n",
        "*   yield"
      ]
    },
    {
      "cell_type": "markdown",
      "metadata": {
        "id": "TfqacTdiE9hx"
      },
      "source": [
        "## Sentencias, líneas e indentación\n",
        "Python no utiliza llaves como otros lenguajes de programación para definir bloques de cógido, funciones, control de flujo o clases. Estos bloques se definen mediante la indentación, la cual se aplica de forma estricta.\n",
        "\n",
        "La cantidad de espacios en la indentación puede ser variable, pero todas las sentencias de un bloque deben tener el mismo número de espacios. \n",
        "\n",
        "A continuación vemos un ejemplo. "
      ]
    },
    {
      "cell_type": "code",
      "metadata": {
        "colab": {
          "base_uri": "https://localhost:8080/"
        },
        "id": "sDSWG-ai9EVr",
        "outputId": "1a7d4a47-8243-48ed-c337-0a96bc37bae8"
      },
      "source": [
        "if True:\n",
        "  print(\"True\")\n",
        "else:\n",
        "  print(\"False\")"
      ],
      "execution_count": 2,
      "outputs": [
        {
          "output_type": "stream",
          "text": [
            "True\n"
          ],
          "name": "stdout"
        }
      ]
    },
    {
      "cell_type": "markdown",
      "metadata": {
        "id": "LPM0VSZpGMpf"
      },
      "source": [
        "Sin embargo, si intentamos ejecutar el siguiente código, obtendremos un error. "
      ]
    },
    {
      "cell_type": "code",
      "metadata": {
        "colab": {
          "base_uri": "https://localhost:8080/",
          "height": 129
        },
        "id": "-CyGY_SKGTgr",
        "outputId": "51ebbe14-e296-4145-a38f-ac389901806f"
      },
      "source": [
        "if True:\n",
        "print(\"True\")\n",
        "else:\n",
        "print(\"False\")"
      ],
      "execution_count": 3,
      "outputs": [
        {
          "output_type": "error",
          "ename": "IndentationError",
          "evalue": "ignored",
          "traceback": [
            "\u001b[0;36m  File \u001b[0;32m\"<ipython-input-3-1c0550ff8db5>\"\u001b[0;36m, line \u001b[0;32m2\u001b[0m\n\u001b[0;31m    print(\"True\")\u001b[0m\n\u001b[0m        ^\u001b[0m\n\u001b[0;31mIndentationError\u001b[0m\u001b[0;31m:\u001b[0m expected an indented block\n"
          ]
        }
      ]
    },
    {
      "cell_type": "markdown",
      "metadata": {
        "id": "Ccqj_NPDGwWO"
      },
      "source": [
        "## Sentencias multilínea\n",
        "Las sentencias en Python normalmente finalizan en una nueva línea. Sin embargo, también se permite el uso de varias líneas para una misma sentencia añadiendo al final de cada una de ellas el carácter \\\n",
        "\n",
        "A continuación vemos un ejemplo."
      ]
    },
    {
      "cell_type": "code",
      "metadata": {
        "colab": {
          "base_uri": "https://localhost:8080/"
        },
        "id": "aXLaezDLHkIb",
        "outputId": "41e8c6e3-f938-4d8a-a4b6-9696c0716483"
      },
      "source": [
        "var1 = var2 = var3 = 1\n",
        "total = var1 + \\\n",
        "        var2 + \\\n",
        "        var3\n",
        "print(total)"
      ],
      "execution_count": 7,
      "outputs": [
        {
          "output_type": "stream",
          "text": [
            "3\n"
          ],
          "name": "stdout"
        }
      ]
    },
    {
      "cell_type": "markdown",
      "metadata": {
        "id": "1V2CxPmVJcEg"
      },
      "source": [
        "Hay una excepción que son las sentencias contenidas entre [], {} o (), en las que no es necesario el uso del caráter \\"
      ]
    },
    {
      "cell_type": "code",
      "metadata": {
        "id": "qBmssSpVHoAA"
      },
      "source": [
        "frutas = ['Manzana', 'Pera', 'Fresa',\n",
        "        'Melocotón', 'Kiwi']"
      ],
      "execution_count": 9,
      "outputs": []
    },
    {
      "cell_type": "markdown",
      "metadata": {
        "id": "tsEamuCTJwvX"
      },
      "source": [
        "## Comentarios en Python\n",
        "El símbolo # que no esté dentro de una cadena, indica que empieza un comentario en el código. Estos comentarios son ignoradospor el intérprete y sólo servirán para comentar el código. "
      ]
    },
    {
      "cell_type": "code",
      "metadata": {
        "colab": {
          "base_uri": "https://localhost:8080/"
        },
        "id": "vx66TlCiJn2Z",
        "outputId": "25e4c645-9f03-45b2-cd03-57fe4b74d536"
      },
      "source": [
        "# Mi primer comentario\n",
        "\n",
        "print(\"Hola mundo!\") # comentario después de una sentencia\n",
        "\n",
        "#Si ejecutas este código sólo verás Hola mundo!"
      ],
      "execution_count": 10,
      "outputs": [
        {
          "output_type": "stream",
          "text": [
            "Hola mundo!\n"
          ],
          "name": "stdout"
        }
      ]
    },
    {
      "cell_type": "markdown",
      "metadata": {
        "id": "TwOyFRgQKsRu"
      },
      "source": [
        "También se pueden hacer comentarios de varias líneas con triples comillas"
      ]
    },
    {
      "cell_type": "code",
      "metadata": {
        "colab": {
          "base_uri": "https://localhost:8080/"
        },
        "id": "V6Fcr8qRKi69",
        "outputId": "32793457-7804-4f3f-9e3b-a79525a0f617"
      },
      "source": [
        "'''También se pueden hacer comentarios\n",
        "de varias líneas\n",
        "con triples comillas'''\n",
        "print(\"Hola mundo!\")"
      ],
      "execution_count": 12,
      "outputs": [
        {
          "output_type": "stream",
          "text": [
            "Hola mundo!\n"
          ],
          "name": "stdout"
        }
      ]
    },
    {
      "source": [
        "Aunque no es algo obligatorio, es muy recomendable seguir una guía de estilo para programar en cualquier lenguaje. En Python, la guía de estilo utilizada es PEP 8. En el siguiente enlace podéis encontrar una guía de estilo PEP 8 completa.\n",
        "\n",
        "https://www.python.org/dev/peps/pep-0008/"
      ],
      "cell_type": "markdown",
      "metadata": {}
    },
    {
      "cell_type": "code",
      "execution_count": null,
      "metadata": {},
      "outputs": [],
      "source": []
    }
  ]
}