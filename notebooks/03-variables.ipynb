{
 "metadata": {
  "language_info": {
   "codemirror_mode": {
    "name": "ipython",
    "version": 3
   },
   "file_extension": ".py",
   "mimetype": "text/x-python",
   "name": "python",
   "nbconvert_exporter": "python",
   "pygments_lexer": "ipython3",
   "version": "3.9.1"
  },
  "orig_nbformat": 2,
  "kernelspec": {
   "name": "python391jvsc74a57bd0629b434df4520847794246a16e1291eb7f6146fbcc3f4d915d5194a82548c03c",
   "display_name": "Python 3.9.1 64-bit"
  },
  "metadata": {
   "interpreter": {
    "hash": "629b434df4520847794246a16e1291eb7f6146fbcc3f4d915d5194a82548c03c"
   }
  }
 },
 "nbformat": 4,
 "nbformat_minor": 2,
 "cells": [
  {
   "source": [
    "# Tipos básicos de datos y operadores\n",
    "\n",
    "Las variables son ubicaciones de memoria reservadas para almacenar valores, ya sean números o texto. Cada vez que declaramos una variable, se está reservando espacio en memoria. \n",
    "\n",
    "## Asignar valores a variables\n",
    "\n",
    "Para asignar valores a las variables, no hace falta una declaración explícita en Python. Cuando utilizamos el signo = estamos asignando un valor a una variable. El operando a la izquierda del signo = es la variable y el operando a la derecha del signo = es el valor que será almacenado en la variable. "
   ],
   "cell_type": "markdown",
   "metadata": {}
  },
  {
   "cell_type": "code",
   "execution_count": 5,
   "metadata": {},
   "outputs": [],
   "source": [
    "edad = 50           # Asignación de valor a una variable de tipo entero\n",
    "peso = 60.9         # Asignación de valor a una variable de tipo punto flotante\n",
    "nombre = 'Gonzalo'  # Asignación de valor a una variable de tipo cadena\n",
    "trabajando = True   # Asignación de valor a una variable de tipo boolean"
   ]
  },
  {
   "source": [
    "También se pueden hacer una asignación múltiple de la siguiente manera"
   ],
   "cell_type": "markdown",
   "metadata": {}
  },
  {
   "cell_type": "code",
   "execution_count": 3,
   "metadata": {},
   "outputs": [],
   "source": [
    "a = b = c = 1\n"
   ]
  },
  {
   "source": [
    "Incluso se pueden hacer diferentes asignaciones en una misma línea"
   ],
   "cell_type": "markdown",
   "metadata": {}
  },
  {
   "cell_type": "code",
   "execution_count": 4,
   "metadata": {},
   "outputs": [],
   "source": [
    "nombre, apellidos, edad = 'José', 'Pulido', 40"
   ]
  },
  {
   "source": [
    "## Variables y operaciones numéricas\n",
    "Las variables de tipo numéricas, como su nombre indica, sirven para almacenar números. Estos números pueden ser enteros o de punto flotante. \n",
    "\n",
    "Las variables numéricas son creadas al asignarle un valor y comprende todos los números enteros positivos y negativos. \n",
    "\n"
   ],
   "cell_type": "markdown",
   "metadata": {}
  },
  {
   "cell_type": "code",
   "execution_count": 6,
   "metadata": {},
   "outputs": [],
   "source": [
    "edad = 37\n",
    "precio = 65.99"
   ]
  },
  {
   "source": [
    "Las operaciones aritméticas que se pueden hacer con variables numércias son:\n",
    "\n",
    "| Operador | Descripción |\n",
    "| -- | -- |\n",
    "| + | sumar | \n",
    "| - | restar | \n",
    "| * | multiplicar | \n",
    "| / | dividir | \n",
    "| // | cociente de una división | \n",
    "| % | módulo | \n",
    "| ** | exponente | \n"
   ],
   "cell_type": "markdown",
   "metadata": {}
  },
  {
   "source": [
    "| Primera columna | Segunda columna | Tercera columna |\n",
    "| -- | -- | -- |\n",
    "| Contenido 1-1 | Contenido 1-2 | Contenido 1-3 |\n",
    "| Contenido 2-1 | Contenido 2-2 | Contenido 2-3 |\n",
    "| Contenido 3-1 | Contenido 3-2 | Contenido 3-3 |"
   ],
   "cell_type": "markdown",
   "metadata": {}
  },
  {
   "cell_type": "code",
   "execution_count": null,
   "metadata": {},
   "outputs": [],
   "source": []
  }
 ]
}