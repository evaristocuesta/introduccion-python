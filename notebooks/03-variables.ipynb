{
 "metadata": {
  "language_info": {
   "codemirror_mode": {
    "name": "ipython",
    "version": 3
   },
   "file_extension": ".py",
   "mimetype": "text/x-python",
   "name": "python",
   "nbconvert_exporter": "python",
   "pygments_lexer": "ipython3",
   "version": "3.9.1"
  },
  "orig_nbformat": 2,
  "kernelspec": {
   "name": "python391jvsc74a57bd0629b434df4520847794246a16e1291eb7f6146fbcc3f4d915d5194a82548c03c",
   "display_name": "Python 3.9.1 64-bit"
  },
  "metadata": {
   "interpreter": {
    "hash": "629b434df4520847794246a16e1291eb7f6146fbcc3f4d915d5194a82548c03c"
   }
  }
 },
 "nbformat": 4,
 "nbformat_minor": 2,
 "cells": [
  {
   "source": [
    "# 03.Tipos básicos de datos y operadores\n",
    "\n",
    "Las variables son ubicaciones de memoria reservadas para almacenar valores, ya sean números o texto. Cada vez que declaramos una variable, se está reservando espacio en memoria. \n",
    "\n",
    "## 1. Asignar valores a variables\n",
    "\n",
    "Para asignar valores a las variables, no hace falta una declaración explícita en Python. Cuando utilizamos el signo = estamos asignando un valor a una variable. El operando a la izquierda del signo = es la variable y el operando a la derecha del signo = es el valor que será almacenado en la variable. "
   ],
   "cell_type": "markdown",
   "metadata": {}
  },
  {
   "cell_type": "code",
   "execution_count": 5,
   "metadata": {},
   "outputs": [],
   "source": [
    "edad = 50           # Asignación de valor a una variable de tipo entero\n",
    "peso = 60.9         # Asignación de valor a una variable de tipo punto flotante\n",
    "nombre = 'Gonzalo'  # Asignación de valor a una variable de tipo cadena\n",
    "trabajando = True   # Asignación de valor a una variable de tipo boolean"
   ]
  },
  {
   "source": [
    "También se pueden hacer una asignación múltiple de la siguiente manera"
   ],
   "cell_type": "markdown",
   "metadata": {}
  },
  {
   "cell_type": "code",
   "execution_count": 3,
   "metadata": {},
   "outputs": [],
   "source": [
    "a = b = c = 1\n"
   ]
  },
  {
   "source": [
    "Incluso se pueden hacer diferentes asignaciones en una misma línea"
   ],
   "cell_type": "markdown",
   "metadata": {}
  },
  {
   "cell_type": "code",
   "execution_count": 4,
   "metadata": {},
   "outputs": [],
   "source": [
    "nombre, apellidos, edad = 'José', 'Pulido', 40"
   ]
  },
  {
   "source": [
    "## 2. Variables y operaciones numéricas\n",
    "Las variables de tipo numéricas, como su nombre indica, sirven para almacenar números. Estos números pueden ser enteros, punto flotante o número complejos, aunque estos últimos quedan fuera del alcance de este curso. \n",
    "\n",
    "Las variables numéricas son creadas al asignarle un valor y comprenden todos los números reales tanto positivos como negativos. \n",
    "\n"
   ],
   "cell_type": "markdown",
   "metadata": {}
  },
  {
   "cell_type": "code",
   "execution_count": 6,
   "metadata": {},
   "outputs": [],
   "source": [
    "edad = 37\n",
    "precio = -65.99"
   ]
  },
  {
   "source": [
    "Las **operaciones aritméticas** que se pueden hacer con variables numéricas son:\n",
    "\n",
    "| Operador | Descripción |\n",
    "| :--: | :-- |\n",
    "| + | sumar | \n",
    "| - | restar | \n",
    "| * | multiplicar | \n",
    "| / | dividir | \n",
    "| // | cociente de una división | \n",
    "| % | módulo de una división | \n",
    "| divmod | cociente y módulo de una división |\n",
    "| ** | exponente | "
   ],
   "cell_type": "markdown",
   "metadata": {}
  },
  {
   "cell_type": "code",
   "execution_count": 4,
   "metadata": {},
   "outputs": [
    {
     "output_type": "stream",
     "name": "stdout",
     "text": [
      "La suma de 17 y 4 es 21\nLa resta de 17 y 4 es 13\nLa multiplicación de 17 y 4 es 68\nLa división entre 17 y 4 es 4.25\nEl cociente 17 y 4 es 4\nEl módulo de 17 y 4 es 1\nEl cociente y módulo de la división entre 17 y 4 es (4, 1)\nEl cociente es 4 y el módulo es 1\n17 elevado a 4 es 83521\n"
     ]
    }
   ],
   "source": [
    "# Suma \n",
    "a, b = 17, 4\n",
    "print(f'La suma de {a} y {b} es {a + b}')\n",
    "# Resta\n",
    "print(f'La resta de {a} y {b} es {a - b}')\n",
    "# Multiplicación\n",
    "print(f'La multiplicación de {a} y {b} es {a * b}')\n",
    "# División\n",
    "print(f'La división entre {a} y {b} es {a / b}')\n",
    "# Cociente de una división\n",
    "print(f'El cociente {a} y {b} es {a // b}')\n",
    "# Módulo de una división\n",
    "print(f'El módulo de {a} y {b} es {a % b}')\n",
    "# Cociente y módulo de una división\n",
    "print(f'El cociente y módulo de la división entre {a} y {b} es {divmod(a, b)}')\n",
    "# También podríamos guardar en diferentes variables el cociente y módulo\n",
    "cociente, modulo = divmod(a, b)\n",
    "print(f'El cociente es {cociente} y el módulo es {modulo}')\n",
    "# Exponente\n",
    "print(f'{a} elevado a {b} es {a ** b}')"
   ]
  },
  {
   "source": [
    "**round()** redondea el número pasado como parámetro. Esta función recibe dos parámetros. \n",
    "\n",
    "Cuando pasamos un sólo parámetro a esta función, redondea al entero más próximo."
   ],
   "cell_type": "markdown",
   "metadata": {}
  },
  {
   "cell_type": "code",
   "execution_count": 5,
   "metadata": {},
   "outputs": [
    {
     "output_type": "stream",
     "name": "stdout",
     "text": [
      "4\n5\n"
     ]
    }
   ],
   "source": [
    "numero1 = 3.65\n",
    "numero2 = 5.22\n",
    "redondeo1 = round(numero1)\n",
    "redondeo2 = round(numero2)\n",
    "print(redondeo1)\n",
    "print(redondeo2)"
   ]
  },
  {
   "source": [
    "Cuando pasamos dos parámetros a la función **round()**, la función devuelve el redondeo del primer argumento con el número de decimales del segundo"
   ],
   "cell_type": "markdown",
   "metadata": {}
  },
  {
   "cell_type": "code",
   "execution_count": 6,
   "metadata": {},
   "outputs": [
    {
     "output_type": "stream",
     "name": "stdout",
     "text": [
      "3.65\n5.225\n"
     ]
    }
   ],
   "source": [
    "numero1 = 3.65354\n",
    "numero2 = 5.22545\n",
    "redondeo1 = round(numero1, 2)\n",
    "redondeo2 = round(numero2, 3)\n",
    "print(redondeo1)\n",
    "print(redondeo2)"
   ]
  },
  {
   "source": [
    "abs() devuelve el valor absoluto de un número"
   ],
   "cell_type": "markdown",
   "metadata": {}
  },
  {
   "cell_type": "code",
   "execution_count": 7,
   "metadata": {},
   "outputs": [
    {
     "output_type": "stream",
     "name": "stdout",
     "text": [
      "El valor absoluto de -3 es 3\n"
     ]
    }
   ],
   "source": [
    "numero = -3\n",
    "abs_numero = abs(numero)\n",
    "print(f'El valor absoluto de {numero} es {abs_numero}')"
   ]
  },
  {
   "source": [
    "**max()** devuelve el máximo de un conjunto de valores\n",
    "\n",
    "**min()** devuelve el mínimo de un conjunto de valores"
   ],
   "cell_type": "markdown",
   "metadata": {}
  },
  {
   "cell_type": "code",
   "execution_count": 8,
   "metadata": {},
   "outputs": [
    {
     "output_type": "stream",
     "name": "stdout",
     "text": [
      "El máximo valor es 8\nEl mínimo valor es -3\n"
     ]
    }
   ],
   "source": [
    "numero1 = 5\n",
    "numero2 = -3\n",
    "maximo = max(1, numero1, 8, numero2)\n",
    "minimo = min(1, numero1, 8, numero2)\n",
    "print(f'El máximo valor es {maximo}')\n",
    "print(f'El mínimo valor es {minimo}')"
   ]
  },
  {
   "cell_type": "code",
   "execution_count": null,
   "metadata": {},
   "outputs": [],
   "source": []
  }
 ]
}